{
 "cells": [
  {
   "cell_type": "code",
   "execution_count": 32,
   "metadata": {},
   "outputs": [
    {
     "name": "stdout",
     "output_type": "stream",
     "text": [
      "The highest water level was 6.647 at 2018-10-10 18:06\n",
      "The lowest water level was 1.621 at 2018-10-11 15:36\n",
      "The average water level was 2.9823232044198904\n"
     ]
    }
   ],
   "source": [
    "#Problems 1 and 2\n",
    "\n",
    "count = 0\n",
    "maxlevel = 0\n",
    "minlevel = 0\n",
    "levels=[]\n",
    "\n",
    "FH = open('/blue/bsc4452/share/Class_Files/data/CO-OPS__8729108__wl.csv')\n",
    "\n",
    "for line in FH:\n",
    "    count +=1\n",
    "    if count > 1:\n",
    "        line = line.rstrip()\n",
    "        level = line[17:22]\n",
    "        try:\n",
    "            float(level)\n",
    "        except: \n",
    "            continue\n",
    "            \n",
    "#Problem 1:\n",
    "        if maxlevel == 0 or level > maxlevel:\n",
    "            maxlevel = level\n",
    "            maxdate = line[0:16]\n",
    "#Problem 2:\n",
    "        if minlevel ==0 or level < minlevel:\n",
    "            minlevel = level\n",
    "            mindate = line[0:16]\n",
    "        \n",
    "        if len(level) > 0:\n",
    "            levels.append(float(level))\n",
    "            \n",
    "avglevel = sum(levels)/len(levels)\n",
    "print(f'The highest water level was {maxlevel} at {maxdate}')\n",
    "print(f'The lowest water level was {minlevel} at {mindate}')\n",
    "print(f'The average water level was {avglevel}')\n"
   ]
  },
  {
   "cell_type": "code",
   "execution_count": 10,
   "metadata": {},
   "outputs": [
    {
     "name": "stdout",
     "output_type": "stream",
     "text": [
      "The greatest rise in water level over 6 minutes was 0.6400000000000006 at 2018-10-10 17:42\n"
     ]
    }
   ],
   "source": [
    "#Problem 3\n",
    "\n",
    "count = 0\n",
    "maxrise = 0\n",
    "\n",
    "FH = open('/blue/bsc4452/share/Class_Files/data/CO-OPS__8729108__wl.csv')\n",
    "\n",
    "for line in FH:\n",
    "    count +=1\n",
    "    if count == 2:\n",
    "        line = line.rstrip()\n",
    "        base = float(line[17:22])\n",
    "        \n",
    "    if count > 1:\n",
    "        line = line.rstrip()\n",
    "        level = line[17:22]\n",
    "        try:\n",
    "            float(level)\n",
    "        except: \n",
    "            continue\n",
    "        level = float(level)\n",
    "        if level > base:\n",
    "            rise = level - base\n",
    "        base = level\n",
    "    \n",
    "    if maxrise == 0 or rise > maxrise:\n",
    "        maxrise = rise\n",
    "        risedate = line[0:16]\n",
    "\n",
    "print(f'The greatest rise in water level over 6 minutes was {maxrise} at {risedate}')"
   ]
  },
  {
   "cell_type": "code",
   "execution_count": 11,
   "metadata": {},
   "outputs": [
    {
     "name": "stdout",
     "output_type": "stream",
     "text": [
      "Warning: water level over 5.0!\n",
      "Warning: water level over 5.0!\n",
      "Warning: water level over 5.0!\n",
      "Warning: water level over 5.0!\n",
      "Warning: water level over 5.0!\n",
      "Warning: water level over 5.0!\n",
      "Warning: no reading was received!\n",
      "Warning: water level over 5.0!\n",
      "Warning: water level over 5.0!\n",
      "Warning: water level over 5.0!\n",
      "Warning: water level over 5.0!\n",
      "Warning: water level over 5.0!\n",
      "Warning: water level over 5.0!\n",
      "Warning: water level over 5.0!\n"
     ]
    }
   ],
   "source": [
    "#Problem 4\n",
    "\n",
    "count = 0\n",
    "levels=[]\n",
    "\n",
    "FH = open('/blue/bsc4452/share/Class_Files/data/CO-OPS__8729108__wl.csv')\n",
    "\n",
    "for line in FH:\n",
    "    count +=1\n",
    "    if count > 1:\n",
    "        line = line.rstrip()\n",
    "        level = line[17:22]\n",
    "        try:\n",
    "            float(level)\n",
    "        except: \n",
    "            print(\"Warning: no reading was received!\")\n",
    "            continue\n",
    "        level = float(level)\n",
    "        if level > base:\n",
    "            rise = level - base\n",
    "        base = level\n",
    "        \n",
    "        if rise > 0.25:\n",
    "            print(\"Warning: water level increased more than 0.25!\")\n",
    "            \n",
    "        if level > 5:\n",
    "            print(\"Warning: water level over 5.0!\")\n",
    "\n",
    "#if\n",
    " #   print(\"Warning: water level increased more than 0.25!\")\n",
    "    \n"
   ]
  },
  {
   "cell_type": "code",
   "execution_count": null,
   "metadata": {},
   "outputs": [],
   "source": []
  }
 ],
 "metadata": {
  "kernelspec": {
   "display_name": "Python 3.8 (full)",
   "language": "python",
   "name": "python3-3.8-ufrc"
  },
  "language_info": {
   "codemirror_mode": {
    "name": "ipython",
    "version": 3
   },
   "file_extension": ".py",
   "mimetype": "text/x-python",
   "name": "python",
   "nbconvert_exporter": "python",
   "pygments_lexer": "ipython3",
   "version": "3.8.5"
  }
 },
 "nbformat": 4,
 "nbformat_minor": 4
}
