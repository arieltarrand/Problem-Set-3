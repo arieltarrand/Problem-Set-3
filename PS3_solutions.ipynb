{
 "cells": [
  {
   "cell_type": "code",
   "execution_count": 30,
   "metadata": {},
   "outputs": [
    {
     "name": "stdout",
     "output_type": "stream",
     "text": [
      "2159.2020000000007\n",
      "724\n",
      "2.9823232044198904\n"
     ]
    }
   ],
   "source": [
    "#Problems 1 and 2\n",
    "\n",
    "count = 0\n",
    "maxlevel = 0\n",
    "minlevel = 0\n",
    "levels=[]\n",
    "\n",
    "FH = open('/blue/bsc4452/share/Class_Files/data/CO-OPS__8729108__wl.csv')\n",
    "\n",
    "for line in FH:\n",
    "    count +=1\n",
    "    if count > 1:\n",
    "        line = line.rstrip()\n",
    "        level = line[17:22]\n",
    "        try:\n",
    "            float(level)\n",
    "        except: \n",
    "            continue\n",
    "            \n",
    "        #Problem 1:\n",
    "        if maxlevel == 0 or level > maxlevel:\n",
    "            maxlevel = level\n",
    "            maxdate = line[0:16]\n",
    "        #Problem 2:\n",
    "        if minlevel ==0 or level < minlevel:\n",
    "            minlevel = level\n",
    "            mindate = line[0:16]\n",
    "        \n",
    "        if len(level) > 0:\n",
    "            levels.append(float(level))\n",
    "print(sum(levels))\n",
    "print(len(levels))\n",
    "avglevel = sum(levels)/len(levels)\n",
    "print(avglevel)\n",
    "print(f'The highest water level was {maxlevel} at {maxdate}')\n",
    "print(f'The lowest water level was {minlevel} at {mindate}')\n",
    "print(f'The average water level was {avglevel}')\n"
   ]
  },
  {
   "cell_type": "code",
   "execution_count": 13,
   "metadata": {},
   "outputs": [
    {
     "ename": "SyntaxError",
     "evalue": "EOL while scanning string literal (<ipython-input-13-36d875dbe4ae>, line 3)",
     "output_type": "error",
     "traceback": [
      "\u001b[0;36m  File \u001b[0;32m\"<ipython-input-13-36d875dbe4ae>\"\u001b[0;36m, line \u001b[0;32m3\u001b[0m\n\u001b[0;31m    print(f'The lowest water level was {minlevel} at {minlevel[date]})\u001b[0m\n\u001b[0m                                                                      ^\u001b[0m\n\u001b[0;31mSyntaxError\u001b[0m\u001b[0;31m:\u001b[0m EOL while scanning string literal\n"
     ]
    }
   ],
   "source": [
    "#Problem 2\n",
    "\n"
   ]
  },
  {
   "cell_type": "code",
   "execution_count": null,
   "metadata": {},
   "outputs": [],
   "source": [
    "#Problem 3\n",
    "\n",
    "change = level-level\n",
    "print(maxchange, maxchange[date])"
   ]
  },
  {
   "cell_type": "code",
   "execution_count": 19,
   "metadata": {},
   "outputs": [
    {
     "ename": "SyntaxError",
     "evalue": "invalid syntax (<ipython-input-19-edba77e5293c>, line 3)",
     "output_type": "error",
     "traceback": [
      "\u001b[0;36m  File \u001b[0;32m\"<ipython-input-19-edba77e5293c>\"\u001b[0;36m, line \u001b[0;32m3\u001b[0m\n\u001b[0;31m    if\u001b[0m\n\u001b[0m      ^\u001b[0m\n\u001b[0;31mSyntaxError\u001b[0m\u001b[0;31m:\u001b[0m invalid syntax\n"
     ]
    }
   ],
   "source": [
    "#Problem 4\n",
    "\n",
    "if\n",
    "    print(\"Warning: water level increased more than 0.25!\")\n",
    "if\n",
    "    print(\"Warning: water level over 5.0!\")\n",
    "if\n",
    "    print(\"Warning: no reading was received!\")"
   ]
  }
 ],
 "metadata": {
  "kernelspec": {
   "display_name": "Python 3.8 (full)",
   "language": "python",
   "name": "python3-3.8-ufrc"
  },
  "language_info": {
   "codemirror_mode": {
    "name": "ipython",
    "version": 3
   },
   "file_extension": ".py",
   "mimetype": "text/x-python",
   "name": "python",
   "nbconvert_exporter": "python",
   "pygments_lexer": "ipython3",
   "version": "3.8.5"
  }
 },
 "nbformat": 4,
 "nbformat_minor": 4
}
